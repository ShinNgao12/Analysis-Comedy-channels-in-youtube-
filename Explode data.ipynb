{
 "cells": [
  {
   "cell_type": "code",
   "execution_count": 1,
   "id": "9b87c2f3-e097-44ca-adb2-984ee3713702",
   "metadata": {},
   "outputs": [],
   "source": [
    "import pandas as pd\n",
    "import numpy as np\n",
    "import seaborn as sns\n",
    "import matplotlib.pyplot as plt\n",
    "sns.set_theme('notebook')"
   ]
  },
  {
   "cell_type": "markdown",
   "id": "81e1379c-0340-48b5-9dab-ea90f70c031b",
   "metadata": {
    "tags": []
   },
   "source": [
    "# 1. Prepare and preprocessing data"
   ]
  },
  {
   "cell_type": "markdown",
   "id": "1776ccb7-2ed4-4aae-a73b-d977d7102341",
   "metadata": {},
   "source": [
    "## 1.1 Channels dataset"
   ]
  },
  {
   "cell_type": "markdown",
   "id": "584d5c0a-3a18-4da6-8b30-fc34247727a1",
   "metadata": {},
   "source": [
    "### 1. Đọc dữ liệu"
   ]
  },
  {
   "cell_type": "code",
   "execution_count": 2,
   "id": "d9112ccf-e24a-4b47-bc7b-98bf73b91c87",
   "metadata": {},
   "outputs": [
    {
     "data": {
      "text/html": [
       "<div>\n",
       "<style scoped>\n",
       "    .dataframe tbody tr th:only-of-type {\n",
       "        vertical-align: middle;\n",
       "    }\n",
       "\n",
       "    .dataframe tbody tr th {\n",
       "        vertical-align: top;\n",
       "    }\n",
       "\n",
       "    .dataframe thead th {\n",
       "        text-align: right;\n",
       "    }\n",
       "</style>\n",
       "<table border=\"1\" class=\"dataframe\">\n",
       "  <thead>\n",
       "    <tr style=\"text-align: right;\">\n",
       "      <th></th>\n",
       "      <th>Channel</th>\n",
       "      <th>PlaylistId</th>\n",
       "      <th>PublishedTime</th>\n",
       "      <th>Views</th>\n",
       "      <th>Subscribers</th>\n",
       "      <th>Videos</th>\n",
       "    </tr>\n",
       "  </thead>\n",
       "  <tbody>\n",
       "    <tr>\n",
       "      <th>0</th>\n",
       "      <td>FAPTV</td>\n",
       "      <td>UU0jDoh3tVXCaqJ6oTve8ebA</td>\n",
       "      <td>2014-02-26T15:44:42Z</td>\n",
       "      <td>4870041141</td>\n",
       "      <td>13300000</td>\n",
       "      <td>567</td>\n",
       "    </tr>\n",
       "    <tr>\n",
       "      <th>1</th>\n",
       "      <td>ĐÔNG TÂY PROMOTION OFFICIAL</td>\n",
       "      <td>UUFMEYTv6N64hIL9FlQ_hxBw</td>\n",
       "      <td>2014-12-17T03:07:44Z</td>\n",
       "      <td>4867786232</td>\n",
       "      <td>8080000</td>\n",
       "      <td>7773</td>\n",
       "    </tr>\n",
       "    <tr>\n",
       "      <th>2</th>\n",
       "      <td>DIEN QUAN Comedy / Hài</td>\n",
       "      <td>UUwmurIyZ6FHyVPtKppe_2_A</td>\n",
       "      <td>2014-12-17T06:57:46Z</td>\n",
       "      <td>3941420767</td>\n",
       "      <td>5940000</td>\n",
       "      <td>4051</td>\n",
       "    </tr>\n",
       "    <tr>\n",
       "      <th>3</th>\n",
       "      <td>VTV Giải Trí Official</td>\n",
       "      <td>UUuJ5k3GndbHnXLYyiIR6Z8Q</td>\n",
       "      <td>2018-12-20T07:33:59Z</td>\n",
       "      <td>2075532878</td>\n",
       "      <td>2450000</td>\n",
       "      <td>8890</td>\n",
       "    </tr>\n",
       "    <tr>\n",
       "      <th>4</th>\n",
       "      <td>Vie Channel - HTV2</td>\n",
       "      <td>UUkna2OcuN1E6u5I8GVtdkOw</td>\n",
       "      <td>2012-06-04T08:47:14Z</td>\n",
       "      <td>4311560277</td>\n",
       "      <td>9860000</td>\n",
       "      <td>8593</td>\n",
       "    </tr>\n",
       "  </tbody>\n",
       "</table>\n",
       "</div>"
      ],
      "text/plain": [
       "                       Channel                PlaylistId  \\\n",
       "0                        FAPTV  UU0jDoh3tVXCaqJ6oTve8ebA   \n",
       "1  ĐÔNG TÂY PROMOTION OFFICIAL  UUFMEYTv6N64hIL9FlQ_hxBw   \n",
       "2       DIEN QUAN Comedy / Hài  UUwmurIyZ6FHyVPtKppe_2_A   \n",
       "3        VTV Giải Trí Official  UUuJ5k3GndbHnXLYyiIR6Z8Q   \n",
       "4           Vie Channel - HTV2  UUkna2OcuN1E6u5I8GVtdkOw   \n",
       "\n",
       "          PublishedTime       Views  Subscribers  Videos  \n",
       "0  2014-02-26T15:44:42Z  4870041141     13300000     567  \n",
       "1  2014-12-17T03:07:44Z  4867786232      8080000    7773  \n",
       "2  2014-12-17T06:57:46Z  3941420767      5940000    4051  \n",
       "3  2018-12-20T07:33:59Z  2075532878      2450000    8890  \n",
       "4  2012-06-04T08:47:14Z  4311560277      9860000    8593  "
      ]
     },
     "execution_count": 2,
     "metadata": {},
     "output_type": "execute_result"
    }
   ],
   "source": [
    "channel_df = pd.read_csv('Data/channels.csv')\n",
    "channel_df"
   ]
  },
  {
   "cell_type": "markdown",
   "id": "b83cd428-eb9f-4e80-bfd6-615d5401bba2",
   "metadata": {},
   "source": [
    "### 2. Kiểu dữ liệu có gì bất thường"
   ]
  },
  {
   "cell_type": "code",
   "execution_count": 3,
   "id": "6f85f4e0-f9d4-42eb-b17d-8eba99286230",
   "metadata": {},
   "outputs": [
    {
     "data": {
      "text/plain": [
       "Channel          object\n",
       "PlaylistId       object\n",
       "PublishedTime    object\n",
       "Views             int64\n",
       "Subscribers       int64\n",
       "Videos            int64\n",
       "dtype: object"
      ]
     },
     "execution_count": 3,
     "metadata": {},
     "output_type": "execute_result"
    }
   ],
   "source": [
    "channel_df.dtypes"
   ]
  },
  {
   "cell_type": "markdown",
   "id": "8d84cdcc-8aaf-4967-a2d5-81156a781c92",
   "metadata": {},
   "source": [
    "### Tiền xử lý Datetime: ở đây chỉ quan tâm tới ngày tháng"
   ]
  },
  {
   "cell_type": "code",
   "execution_count": 4,
   "id": "39d652b0-913a-47db-a219-1aa37a4dcecf",
   "metadata": {},
   "outputs": [],
   "source": [
    "channel_df['PublishedTime'] = channel_df['PublishedTime'].str.extract(r'(\\d+\\-\\d+\\-\\d+)')\n",
    "channel_df['PublishedTime'] = pd.to_datetime(channel_df['PublishedTime'])"
   ]
  },
  {
   "cell_type": "code",
   "execution_count": 5,
   "id": "ef50d5b8-1dc4-49c8-b616-88924656106f",
   "metadata": {},
   "outputs": [
    {
     "data": {
      "text/plain": [
       "Channel                  object\n",
       "PlaylistId               object\n",
       "PublishedTime    datetime64[ns]\n",
       "Views                     int64\n",
       "Subscribers               int64\n",
       "Videos                    int64\n",
       "dtype: object"
      ]
     },
     "execution_count": 5,
     "metadata": {},
     "output_type": "execute_result"
    }
   ],
   "source": [
    "channel_df.dtypes"
   ]
  },
  {
   "cell_type": "markdown",
   "id": "cef1e102-18bf-457e-9a8a-3452dc1f8298",
   "metadata": {},
   "source": [
    "## 1.2 Information dataset"
   ]
  },
  {
   "cell_type": "markdown",
   "id": "e15c5852-cb19-468c-b131-4af240fed863",
   "metadata": {},
   "source": [
    "### 1. Đọc dữ liệu"
   ]
  },
  {
   "cell_type": "code",
   "execution_count": 6,
   "id": "b39c3568-9e35-4374-b579-2386ff7f81c3",
   "metadata": {},
   "outputs": [
    {
     "data": {
      "text/html": [
       "<div>\n",
       "<style scoped>\n",
       "    .dataframe tbody tr th:only-of-type {\n",
       "        vertical-align: middle;\n",
       "    }\n",
       "\n",
       "    .dataframe tbody tr th {\n",
       "        vertical-align: top;\n",
       "    }\n",
       "\n",
       "    .dataframe thead th {\n",
       "        text-align: right;\n",
       "    }\n",
       "</style>\n",
       "<table border=\"1\" class=\"dataframe\">\n",
       "  <thead>\n",
       "    <tr style=\"text-align: right;\">\n",
       "      <th></th>\n",
       "      <th>VideoId</th>\n",
       "      <th>Channel</th>\n",
       "      <th>Title</th>\n",
       "      <th>publishedTime</th>\n",
       "      <th>CategoryId</th>\n",
       "      <th>Description</th>\n",
       "      <th>Duration</th>\n",
       "      <th>Dimension</th>\n",
       "      <th>Caption</th>\n",
       "      <th>Tags</th>\n",
       "      <th>Views</th>\n",
       "      <th>Likes</th>\n",
       "      <th>Comments</th>\n",
       "    </tr>\n",
       "  </thead>\n",
       "  <tbody>\n",
       "    <tr>\n",
       "      <th>0</th>\n",
       "      <td>LObx_aVfpuA</td>\n",
       "      <td>VTV Giải Trí Official</td>\n",
       "      <td>Chồng cũ vợ cũ người yêu cũ tập 22 | Một pha '...</td>\n",
       "      <td>2022-07-08T15:30:09Z</td>\n",
       "      <td>24</td>\n",
       "      <td>▶️ Full Chồng cũ vợ cũ người yêu cũ tập 22: ht...</td>\n",
       "      <td>PT5M9S</td>\n",
       "      <td>2d</td>\n",
       "      <td>False</td>\n",
       "      <td>['vtv giải trí', 'vtv giai tri', 'phim hay', '...</td>\n",
       "      <td>10890</td>\n",
       "      <td>91</td>\n",
       "      <td>5</td>\n",
       "    </tr>\n",
       "    <tr>\n",
       "      <th>1</th>\n",
       "      <td>a8-B8yByqK0</td>\n",
       "      <td>VTV Giải Trí Official</td>\n",
       "      <td>TRỰC TIẾP VTV3 | Chồng cũ vợ cũ người yêu cũ t...</td>\n",
       "      <td>2022-07-08T14:30:12Z</td>\n",
       "      <td>24</td>\n",
       "      <td>TRỰC TIẾP VTV3 | Chồng cũ vợ cũ người yêu cũ t...</td>\n",
       "      <td>PT4M9S</td>\n",
       "      <td>2d</td>\n",
       "      <td>False</td>\n",
       "      <td>['vtv giải trí', 'vtv giai tri', 'phim hay', '...</td>\n",
       "      <td>30827</td>\n",
       "      <td>158</td>\n",
       "      <td>5</td>\n",
       "    </tr>\n",
       "    <tr>\n",
       "      <th>2</th>\n",
       "      <td>B2WuOIw9w9U</td>\n",
       "      <td>VTV Giải Trí Official</td>\n",
       "      <td>Lối Nhỏ Vào Đời - Tập 21 | Bác Thành đau khổ c...</td>\n",
       "      <td>2022-07-08T14:30:02Z</td>\n",
       "      <td>24</td>\n",
       "      <td>Lối Nhỏ Vào Đời - Tập 21 | Bác Thành đau khổ c...</td>\n",
       "      <td>PT5M8S</td>\n",
       "      <td>2d</td>\n",
       "      <td>False</td>\n",
       "      <td>['vtv giải trí', 'vtv giai tri', 'phim hay', '...</td>\n",
       "      <td>24188</td>\n",
       "      <td>184</td>\n",
       "      <td>16</td>\n",
       "    </tr>\n",
       "    <tr>\n",
       "      <th>3</th>\n",
       "      <td>0kjiyMoIeU0</td>\n",
       "      <td>VTV Giải Trí Official</td>\n",
       "      <td>TRỰC TIẾP VTV1 | TẬP 21: Lối Nhỏ Vào Đời</td>\n",
       "      <td>2022-07-08T14:00:13Z</td>\n",
       "      <td>24</td>\n",
       "      <td>TRỰC TIẾP VTV1 | TẬP 21: Lối Nhỏ Vào Đời \\n👉 X...</td>\n",
       "      <td>PT4M1S</td>\n",
       "      <td>2d</td>\n",
       "      <td>False</td>\n",
       "      <td>['vtv giải trí', 'vtv giai tri', 'phim hay', '...</td>\n",
       "      <td>33323</td>\n",
       "      <td>163</td>\n",
       "      <td>17</td>\n",
       "    </tr>\n",
       "    <tr>\n",
       "      <th>4</th>\n",
       "      <td>lL_UZK0Zdxo</td>\n",
       "      <td>VTV Giải Trí Official</td>\n",
       "      <td>Chồng cũ vợ cũ người yêu cũ tập 21 | Vợ mới từ...</td>\n",
       "      <td>2022-07-08T11:45:03Z</td>\n",
       "      <td>24</td>\n",
       "      <td>▶️ Full Chồng cũ vợ cũ người yêu cũ tập 21: ht...</td>\n",
       "      <td>PT4M9S</td>\n",
       "      <td>2d</td>\n",
       "      <td>False</td>\n",
       "      <td>['vtv giải trí', 'vtv giai tri', 'phim hay', '...</td>\n",
       "      <td>8730</td>\n",
       "      <td>40</td>\n",
       "      <td>1</td>\n",
       "    </tr>\n",
       "  </tbody>\n",
       "</table>\n",
       "</div>"
      ],
      "text/plain": [
       "       VideoId                Channel  \\\n",
       "0  LObx_aVfpuA  VTV Giải Trí Official   \n",
       "1  a8-B8yByqK0  VTV Giải Trí Official   \n",
       "2  B2WuOIw9w9U  VTV Giải Trí Official   \n",
       "3  0kjiyMoIeU0  VTV Giải Trí Official   \n",
       "4  lL_UZK0Zdxo  VTV Giải Trí Official   \n",
       "\n",
       "                                               Title         publishedTime  \\\n",
       "0  Chồng cũ vợ cũ người yêu cũ tập 22 | Một pha '...  2022-07-08T15:30:09Z   \n",
       "1  TRỰC TIẾP VTV3 | Chồng cũ vợ cũ người yêu cũ t...  2022-07-08T14:30:12Z   \n",
       "2  Lối Nhỏ Vào Đời - Tập 21 | Bác Thành đau khổ c...  2022-07-08T14:30:02Z   \n",
       "3           TRỰC TIẾP VTV1 | TẬP 21: Lối Nhỏ Vào Đời  2022-07-08T14:00:13Z   \n",
       "4  Chồng cũ vợ cũ người yêu cũ tập 21 | Vợ mới từ...  2022-07-08T11:45:03Z   \n",
       "\n",
       "   CategoryId                                        Description Duration  \\\n",
       "0          24  ▶️ Full Chồng cũ vợ cũ người yêu cũ tập 22: ht...   PT5M9S   \n",
       "1          24  TRỰC TIẾP VTV3 | Chồng cũ vợ cũ người yêu cũ t...   PT4M9S   \n",
       "2          24  Lối Nhỏ Vào Đời - Tập 21 | Bác Thành đau khổ c...   PT5M8S   \n",
       "3          24  TRỰC TIẾP VTV1 | TẬP 21: Lối Nhỏ Vào Đời \\n👉 X...   PT4M1S   \n",
       "4          24  ▶️ Full Chồng cũ vợ cũ người yêu cũ tập 21: ht...   PT4M9S   \n",
       "\n",
       "  Dimension  Caption                                               Tags  \\\n",
       "0        2d    False  ['vtv giải trí', 'vtv giai tri', 'phim hay', '...   \n",
       "1        2d    False  ['vtv giải trí', 'vtv giai tri', 'phim hay', '...   \n",
       "2        2d    False  ['vtv giải trí', 'vtv giai tri', 'phim hay', '...   \n",
       "3        2d    False  ['vtv giải trí', 'vtv giai tri', 'phim hay', '...   \n",
       "4        2d    False  ['vtv giải trí', 'vtv giai tri', 'phim hay', '...   \n",
       "\n",
       "   Views  Likes  Comments  \n",
       "0  10890     91         5  \n",
       "1  30827    158         5  \n",
       "2  24188    184        16  \n",
       "3  33323    163        17  \n",
       "4   8730     40         1  "
      ]
     },
     "execution_count": 6,
     "metadata": {},
     "output_type": "execute_result"
    }
   ],
   "source": [
    "information_df = pd.read_csv('Data/information_video.csv')\n",
    "information_df.head()"
   ]
  },
  {
   "cell_type": "markdown",
   "id": "5105516e-d088-4f3f-a1f0-41936823dc48",
   "metadata": {},
   "source": [
    "### 2. Dữ liệu có bao nhiêu dòng và cột"
   ]
  },
  {
   "cell_type": "code",
   "execution_count": 7,
   "id": "494d4448-915f-4f08-802f-b048629f027a",
   "metadata": {},
   "outputs": [
    {
     "name": "stdout",
     "output_type": "stream",
     "text": [
      "Dữ liệu có 29899 dòng\n",
      "Dữ liệu có 13 cột\n"
     ]
    }
   ],
   "source": [
    "num_rows, num_cols = information_df.shape\n",
    "print(f'Dữ liệu có {num_rows} dòng')\n",
    "print(f'Dữ liệu có {num_cols} cột')"
   ]
  },
  {
   "cell_type": "markdown",
   "id": "543688a3-b3ec-4968-963c-02f849381ce4",
   "metadata": {},
   "source": [
    "### 3. Kiểu dữ liệu có gì bất thường"
   ]
  },
  {
   "cell_type": "code",
   "execution_count": 8,
   "id": "3576473e-32c3-41e0-b9b5-cb5436e25078",
   "metadata": {},
   "outputs": [
    {
     "data": {
      "text/plain": [
       "VideoId          object\n",
       "Channel          object\n",
       "Title            object\n",
       "publishedTime    object\n",
       "CategoryId        int64\n",
       "Description      object\n",
       "Duration         object\n",
       "Dimension        object\n",
       "Caption            bool\n",
       "Tags             object\n",
       "Views             int64\n",
       "Likes             int64\n",
       "Comments          int64\n",
       "dtype: object"
      ]
     },
     "execution_count": 8,
     "metadata": {},
     "output_type": "execute_result"
    }
   ],
   "source": [
    "information_df.dtypes"
   ]
  },
  {
   "cell_type": "markdown",
   "id": "f02fc224-69ff-4857-b649-330363cfca90",
   "metadata": {},
   "source": [
    "### Tiền xử lý"
   ]
  },
  {
   "cell_type": "code",
   "execution_count": 9,
   "id": "060bc950-4921-4786-a012-00edfee650bb",
   "metadata": {},
   "outputs": [
    {
     "name": "stdout",
     "output_type": "stream",
     "text": [
      "Requirement already satisfied: python-dateutil in /usr/local/lib/python3.8/dist-packages (2.8.2)\n",
      "Requirement already satisfied: six>=1.5 in /usr/lib/python3/dist-packages (from python-dateutil) (1.14.0)\n",
      "Requirement already satisfied: isodate in /home/phuthu/.local/lib/python3.8/site-packages (0.6.1)\n",
      "Requirement already satisfied: six in /usr/lib/python3/dist-packages (from isodate) (1.14.0)\n"
     ]
    }
   ],
   "source": [
    "! pip install python-dateutil\n",
    "! pip install isodate"
   ]
  },
  {
   "cell_type": "code",
   "execution_count": 10,
   "id": "11e76ab7-0430-48c4-8309-fe9d4965094a",
   "metadata": {},
   "outputs": [],
   "source": [
    "from dateutil import parser\n",
    "import isodate"
   ]
  },
  {
   "cell_type": "markdown",
   "id": "a3452f45-91a2-4ce6-8416-a4f3b0a397af",
   "metadata": {},
   "source": [
    "- **Chuyển về dạng datetime và thêm vào cột \"publishedDayName\" tương ứng ngày trong tuần**"
   ]
  },
  {
   "cell_type": "code",
   "execution_count": 11,
   "id": "0b8bd46a-a316-4c17-a866-d794824fe159",
   "metadata": {},
   "outputs": [
    {
     "data": {
      "text/html": [
       "<div>\n",
       "<style scoped>\n",
       "    .dataframe tbody tr th:only-of-type {\n",
       "        vertical-align: middle;\n",
       "    }\n",
       "\n",
       "    .dataframe tbody tr th {\n",
       "        vertical-align: top;\n",
       "    }\n",
       "\n",
       "    .dataframe thead th {\n",
       "        text-align: right;\n",
       "    }\n",
       "</style>\n",
       "<table border=\"1\" class=\"dataframe\">\n",
       "  <thead>\n",
       "    <tr style=\"text-align: right;\">\n",
       "      <th></th>\n",
       "      <th>publishedTime</th>\n",
       "      <th>publishedDayName</th>\n",
       "    </tr>\n",
       "  </thead>\n",
       "  <tbody>\n",
       "    <tr>\n",
       "      <th>29894</th>\n",
       "      <td>2012-06-22 06:53:14+00:00</td>\n",
       "      <td>Friday</td>\n",
       "    </tr>\n",
       "    <tr>\n",
       "      <th>29895</th>\n",
       "      <td>2012-06-14 10:14:36+00:00</td>\n",
       "      <td>Thursday</td>\n",
       "    </tr>\n",
       "    <tr>\n",
       "      <th>29896</th>\n",
       "      <td>2012-06-08 05:02:08+00:00</td>\n",
       "      <td>Friday</td>\n",
       "    </tr>\n",
       "    <tr>\n",
       "      <th>29897</th>\n",
       "      <td>2012-06-08 04:49:13+00:00</td>\n",
       "      <td>Friday</td>\n",
       "    </tr>\n",
       "    <tr>\n",
       "      <th>29898</th>\n",
       "      <td>2012-06-07 03:02:16+00:00</td>\n",
       "      <td>Thursday</td>\n",
       "    </tr>\n",
       "  </tbody>\n",
       "</table>\n",
       "</div>"
      ],
      "text/plain": [
       "                  publishedTime publishedDayName\n",
       "29894 2012-06-22 06:53:14+00:00           Friday\n",
       "29895 2012-06-14 10:14:36+00:00         Thursday\n",
       "29896 2012-06-08 05:02:08+00:00           Friday\n",
       "29897 2012-06-08 04:49:13+00:00           Friday\n",
       "29898 2012-06-07 03:02:16+00:00         Thursday"
      ]
     },
     "execution_count": 11,
     "metadata": {},
     "output_type": "execute_result"
    }
   ],
   "source": [
    "information_df['publishedTime'] = information_df['publishedTime'].apply(lambda x: parser.parse(x))\n",
    "information_df['publishedDayName'] = information_df['publishedTime'].apply(lambda x: x.strftime('%A'))\n",
    "information_df[['publishedTime','publishedDayName']].tail()"
   ]
  },
  {
   "cell_type": "markdown",
   "id": "ce47ce84-ac47-4f6a-97cd-6577dbaf4485",
   "metadata": {},
   "source": [
    "- **Chuyển Duration của video về seconds**"
   ]
  },
  {
   "cell_type": "code",
   "execution_count": 12,
   "id": "a89185af-1cd5-4035-808a-759d44354fe4",
   "metadata": {},
   "outputs": [
    {
     "data": {
      "text/html": [
       "<div>\n",
       "<style scoped>\n",
       "    .dataframe tbody tr th:only-of-type {\n",
       "        vertical-align: middle;\n",
       "    }\n",
       "\n",
       "    .dataframe tbody tr th {\n",
       "        vertical-align: top;\n",
       "    }\n",
       "\n",
       "    .dataframe thead th {\n",
       "        text-align: right;\n",
       "    }\n",
       "</style>\n",
       "<table border=\"1\" class=\"dataframe\">\n",
       "  <thead>\n",
       "    <tr style=\"text-align: right;\">\n",
       "      <th></th>\n",
       "      <th>Duration</th>\n",
       "      <th>durationSecond</th>\n",
       "    </tr>\n",
       "  </thead>\n",
       "  <tbody>\n",
       "    <tr>\n",
       "      <th>0</th>\n",
       "      <td>PT5M9S</td>\n",
       "      <td>309.0</td>\n",
       "    </tr>\n",
       "    <tr>\n",
       "      <th>1</th>\n",
       "      <td>PT4M9S</td>\n",
       "      <td>249.0</td>\n",
       "    </tr>\n",
       "    <tr>\n",
       "      <th>2</th>\n",
       "      <td>PT5M8S</td>\n",
       "      <td>308.0</td>\n",
       "    </tr>\n",
       "    <tr>\n",
       "      <th>3</th>\n",
       "      <td>PT4M1S</td>\n",
       "      <td>241.0</td>\n",
       "    </tr>\n",
       "    <tr>\n",
       "      <th>4</th>\n",
       "      <td>PT4M9S</td>\n",
       "      <td>249.0</td>\n",
       "    </tr>\n",
       "  </tbody>\n",
       "</table>\n",
       "</div>"
      ],
      "text/plain": [
       "  Duration  durationSecond\n",
       "0   PT5M9S           309.0\n",
       "1   PT4M9S           249.0\n",
       "2   PT5M8S           308.0\n",
       "3   PT4M1S           241.0\n",
       "4   PT4M9S           249.0"
      ]
     },
     "execution_count": 12,
     "metadata": {},
     "output_type": "execute_result"
    }
   ],
   "source": [
    "information_df['durationSecond'] = information_df['Duration'].apply(lambda x: isodate.parse_duration(x))\n",
    "information_df['durationSecond'] = information_df['durationSecond'].astype('timedelta64[s]')\n",
    "information_df[['Duration','durationSecond']].head()"
   ]
  },
  {
   "cell_type": "code",
   "execution_count": 13,
   "id": "386ef00a-5d91-4d42-8b2f-1979e679c6a2",
   "metadata": {},
   "outputs": [
    {
     "data": {
      "text/plain": [
       "VideoId                              object\n",
       "Channel                              object\n",
       "Title                                object\n",
       "publishedTime       datetime64[ns, tzutc()]\n",
       "CategoryId                            int64\n",
       "Description                          object\n",
       "Duration                             object\n",
       "Dimension                            object\n",
       "Caption                                bool\n",
       "Tags                                 object\n",
       "Views                                 int64\n",
       "Likes                                 int64\n",
       "Comments                              int64\n",
       "publishedDayName                     object\n",
       "durationSecond                      float64\n",
       "dtype: object"
      ]
     },
     "execution_count": 13,
     "metadata": {},
     "output_type": "execute_result"
    }
   ],
   "source": [
    "# kiểm tra lại\n",
    "information_df.dtypes"
   ]
  },
  {
   "cell_type": "markdown",
   "id": "4189ae99-a815-4d81-bf24-c6a7db4f9b5f",
   "metadata": {},
   "source": [
    "### 4.Thêm vào số lượng tags cho video"
   ]
  },
  {
   "cell_type": "code",
   "execution_count": 14,
   "id": "c3d42250-65b4-4c59-b0d0-99e445736595",
   "metadata": {},
   "outputs": [],
   "source": [
    "# tiền xử lý giá trị vì Tags ban đầu là string\n",
    "information_df['Tags'] = information_df['Tags'].apply(lambda x : x.lstrip('[').rstrip(']').strip().split(', '))\n",
    "information_df['Tags'] = information_df['Tags'].apply(lambda x: [i.strip(\"'\") for i in x])"
   ]
  },
  {
   "cell_type": "code",
   "execution_count": 15,
   "id": "f06f5c0b-30d9-4388-9a9a-175a360dfa29",
   "metadata": {},
   "outputs": [
    {
     "data": {
      "text/html": [
       "<div>\n",
       "<style scoped>\n",
       "    .dataframe tbody tr th:only-of-type {\n",
       "        vertical-align: middle;\n",
       "    }\n",
       "\n",
       "    .dataframe tbody tr th {\n",
       "        vertical-align: top;\n",
       "    }\n",
       "\n",
       "    .dataframe thead th {\n",
       "        text-align: right;\n",
       "    }\n",
       "</style>\n",
       "<table border=\"1\" class=\"dataframe\">\n",
       "  <thead>\n",
       "    <tr style=\"text-align: right;\">\n",
       "      <th></th>\n",
       "      <th>Tags</th>\n",
       "      <th>tagCount</th>\n",
       "    </tr>\n",
       "  </thead>\n",
       "  <tbody>\n",
       "    <tr>\n",
       "      <th>0</th>\n",
       "      <td>[vtv giải trí, vtv giai tri, phim hay, phim vt...</td>\n",
       "      <td>26</td>\n",
       "    </tr>\n",
       "    <tr>\n",
       "      <th>1</th>\n",
       "      <td>[vtv giải trí, vtv giai tri, phim hay, phim vt...</td>\n",
       "      <td>20</td>\n",
       "    </tr>\n",
       "    <tr>\n",
       "      <th>2</th>\n",
       "      <td>[vtv giải trí, vtv giai tri, phim hay, phim vt...</td>\n",
       "      <td>23</td>\n",
       "    </tr>\n",
       "    <tr>\n",
       "      <th>3</th>\n",
       "      <td>[vtv giải trí, vtv giai tri, phim hay, phim vt...</td>\n",
       "      <td>24</td>\n",
       "    </tr>\n",
       "    <tr>\n",
       "      <th>4</th>\n",
       "      <td>[vtv giải trí, vtv giai tri, phim hay, phim vt...</td>\n",
       "      <td>27</td>\n",
       "    </tr>\n",
       "  </tbody>\n",
       "</table>\n",
       "</div>"
      ],
      "text/plain": [
       "                                                Tags  tagCount\n",
       "0  [vtv giải trí, vtv giai tri, phim hay, phim vt...        26\n",
       "1  [vtv giải trí, vtv giai tri, phim hay, phim vt...        20\n",
       "2  [vtv giải trí, vtv giai tri, phim hay, phim vt...        23\n",
       "3  [vtv giải trí, vtv giai tri, phim hay, phim vt...        24\n",
       "4  [vtv giải trí, vtv giai tri, phim hay, phim vt...        27"
      ]
     },
     "execution_count": 15,
     "metadata": {},
     "output_type": "execute_result"
    }
   ],
   "source": [
    "information_df['tagCount'] = information_df['Tags'].apply(lambda x: len(x))\n",
    "information_df[['Tags','tagCount']].head()"
   ]
  },
  {
   "cell_type": "markdown",
   "id": "951ddc87-138d-4fe4-abdd-ce729fb3c309",
   "metadata": {
    "tags": []
   },
   "source": [
    "### 5.Thêm vào Category tương ứng với CategoryId"
   ]
  },
  {
   "cell_type": "code",
   "execution_count": 16,
   "id": "9d4099bc-34b3-41f3-95c4-36e10cda087c",
   "metadata": {},
   "outputs": [],
   "source": [
    "category_df = pd.read_csv('Data/category_video.csv')"
   ]
  },
  {
   "cell_type": "code",
   "execution_count": 17,
   "id": "2d3acf89-9faa-49a9-a70a-59cc5dce0bae",
   "metadata": {},
   "outputs": [
    {
     "data": {
      "text/html": [
       "<div>\n",
       "<style scoped>\n",
       "    .dataframe tbody tr th:only-of-type {\n",
       "        vertical-align: middle;\n",
       "    }\n",
       "\n",
       "    .dataframe tbody tr th {\n",
       "        vertical-align: top;\n",
       "    }\n",
       "\n",
       "    .dataframe thead th {\n",
       "        text-align: right;\n",
       "    }\n",
       "</style>\n",
       "<table border=\"1\" class=\"dataframe\">\n",
       "  <thead>\n",
       "    <tr style=\"text-align: right;\">\n",
       "      <th></th>\n",
       "      <th>CategoryId</th>\n",
       "      <th>Category</th>\n",
       "    </tr>\n",
       "  </thead>\n",
       "  <tbody>\n",
       "    <tr>\n",
       "      <th>29894</th>\n",
       "      <td>26</td>\n",
       "      <td>Howto &amp; Style</td>\n",
       "    </tr>\n",
       "    <tr>\n",
       "      <th>29895</th>\n",
       "      <td>26</td>\n",
       "      <td>Howto &amp; Style</td>\n",
       "    </tr>\n",
       "    <tr>\n",
       "      <th>29896</th>\n",
       "      <td>26</td>\n",
       "      <td>Howto &amp; Style</td>\n",
       "    </tr>\n",
       "    <tr>\n",
       "      <th>29897</th>\n",
       "      <td>27</td>\n",
       "      <td>Education</td>\n",
       "    </tr>\n",
       "    <tr>\n",
       "      <th>29898</th>\n",
       "      <td>27</td>\n",
       "      <td>Education</td>\n",
       "    </tr>\n",
       "  </tbody>\n",
       "</table>\n",
       "</div>"
      ],
      "text/plain": [
       "       CategoryId       Category\n",
       "29894          26  Howto & Style\n",
       "29895          26  Howto & Style\n",
       "29896          26  Howto & Style\n",
       "29897          27      Education\n",
       "29898          27      Education"
      ]
     },
     "execution_count": 17,
     "metadata": {},
     "output_type": "execute_result"
    }
   ],
   "source": [
    "# merge 2 DataFrame lại với nhau\n",
    "information_df = information_df.merge(category_df, on='CategoryId')\n",
    "information_df[['CategoryId','Category']].tail()"
   ]
  },
  {
   "cell_type": "markdown",
   "id": "2ef5247f-0022-407d-a1b4-67e2be728814",
   "metadata": {},
   "source": [
    "### 6. Thêm vào danh sách nghệ sĩ tham gia vào video(nếu có)\n",
    "- **Dựa vào hashtag trong descrition**"
   ]
  },
  {
   "cell_type": "code",
   "execution_count": 18,
   "id": "294f9477-97d1-41f8-96e3-b59044dfb30a",
   "metadata": {},
   "outputs": [
    {
     "name": "stdout",
     "output_type": "stream",
     "text": [
      "Requirement already satisfied: pyvi in /home/phuthu/.local/lib/python3.8/site-packages (0.1.1)\n",
      "Requirement already satisfied: sklearn-crfsuite in /home/phuthu/.local/lib/python3.8/site-packages (from pyvi) (0.3.6)\n",
      "Requirement already satisfied: scikit-learn in /usr/local/lib/python3.8/dist-packages (from pyvi) (1.1.1)\n",
      "Requirement already satisfied: tabulate in /home/phuthu/.local/lib/python3.8/site-packages (from sklearn-crfsuite->pyvi) (0.8.10)\n",
      "Requirement already satisfied: tqdm>=2.0 in /home/phuthu/.local/lib/python3.8/site-packages (from sklearn-crfsuite->pyvi) (4.64.0)\n",
      "Requirement already satisfied: python-crfsuite>=0.8.3 in /home/phuthu/.local/lib/python3.8/site-packages (from sklearn-crfsuite->pyvi) (0.9.8)\n",
      "Requirement already satisfied: six in /usr/lib/python3/dist-packages (from sklearn-crfsuite->pyvi) (1.14.0)\n",
      "Requirement already satisfied: threadpoolctl>=2.0.0 in /usr/local/lib/python3.8/dist-packages (from scikit-learn->pyvi) (3.1.0)\n",
      "Requirement already satisfied: joblib>=1.0.0 in /usr/local/lib/python3.8/dist-packages (from scikit-learn->pyvi) (1.1.0)\n",
      "Requirement already satisfied: numpy>=1.17.3 in /usr/local/lib/python3.8/dist-packages (from scikit-learn->pyvi) (1.22.4)\n",
      "Requirement already satisfied: scipy>=1.3.2 in /usr/local/lib/python3.8/dist-packages (from scikit-learn->pyvi) (1.8.1)\n"
     ]
    }
   ],
   "source": [
    "! pip install pyvi"
   ]
  },
  {
   "cell_type": "code",
   "execution_count": 19,
   "id": "e9ee68a0-c5c8-4f32-a275-ba335091debb",
   "metadata": {},
   "outputs": [],
   "source": [
    "from pyvi import ViTokenizer, ViPosTagger"
   ]
  },
  {
   "cell_type": "code",
   "execution_count": null,
   "id": "b20cff8a-c5a0-4433-b13d-8f2acac37668",
   "metadata": {},
   "outputs": [],
   "source": []
  },
  {
   "cell_type": "markdown",
   "id": "c8466b98-54a3-4fe1-8bb4-686d812d6727",
   "metadata": {
    "slideshow": {
     "slide_type": "slide"
    },
    "tags": []
   },
   "source": [
    "## 2. EDA"
   ]
  },
  {
   "cell_type": "markdown",
   "id": "e0e550ce-cdb7-4617-a1d3-d8f786325eba",
   "metadata": {},
   "source": [
    "### 2.1. Trực quan dữ liệu số lượt xem/video, số lượng subscriber của các channels trên."
   ]
  },
  {
   "cell_type": "code",
   "execution_count": 20,
   "id": "cf5add2e-34d2-4a01-b9ad-700126d1c223",
   "metadata": {
    "jp-MarkdownHeadingCollapsed": true,
    "tags": []
   },
   "outputs": [
    {
     "data": {
      "image/png": "[encoded data removed]",
      "text/plain": [
       "<Figure size 1440x432 with 2 Axes>"
      ]
     },
     "metadata": {
      "needs_background": "light"
     },
     "output_type": "display_data"
    }
   ],
   "source": [
    "fig, axs = plt.subplots(1,2, figsize = (20,6))\n",
    "sns.barplot(y = 'Channel' , x = 'Subscribers', data = channel_df, ax = axs[0])\n",
    "sns.barplot(y = channel_df['Channel'], x = channel_df['Views'] / channel_df['Videos'], ax = axs[1])\n",
    "\n",
    "axs[1].get_yaxis().set_visible(False)\n",
    "axs[0].set_xlabel('Subscribers', fontsize = 12)\n",
    "axs[1].set_xlabel('Views/Video', fontsize = 12)\n",
    "plt.suptitle('Trực quan mối tương quan giữa các Channels', fontsize = 25)\n",
    "plt.show()"
   ]
  },
  {
   "cell_type": "code",
   "execution_count": null,
   "id": "6dcffb6d-2af1-414b-91c9-20bb2d003c75",
   "metadata": {},
   "outputs": [],
   "source": []
  },
  {
   "cell_type": "markdown",
   "id": "f635d7bf-f379-428a-a7b0-c49980a68994",
   "metadata": {},
   "source": [
    "### "
   ]
  }
 ],
 "metadata": {
  "kernelspec": {
   "display_name": "Python 3 (ipykernel)",
   "language": "python",
   "name": "python3"
  },
  "language_info": {
   "codemirror_mode": {
    "name": "ipython",
    "version": 3
   },
   "file_extension": ".py",
   "mimetype": "text/x-python",
   "name": "python",
   "nbconvert_exporter": "python",
   "pygments_lexer": "ipython3",
   "version": "3.8.10"
  }
 },
 "nbformat": 4,
 "nbformat_minor": 5
}
