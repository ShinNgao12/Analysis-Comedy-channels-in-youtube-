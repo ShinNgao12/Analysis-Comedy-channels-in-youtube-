{
 "cells": [
  {
   "cell_type": "code",
   "execution_count": 1,
   "id": "dde1ae4f-39c8-4bdd-ae7a-689b6264693a",
   "metadata": {},
   "outputs": [],
   "source": [
    "import requests\n",
    "from bs4 import BeautifulSoup\n",
    "import re"
   ]
  },
  {
   "cell_type": "code",
   "execution_count": 2,
   "id": "03d897ac-cd50-4f45-971b-0d5707bfee30",
   "metadata": {},
   "outputs": [],
   "source": [
    "url = 'https://vi.wikipedia.org/wiki/Danh_s%C3%A1ch_di%E1%BB%85n_vi%C3%AAn_Vi%E1%BB%87t_Nam'\n",
    "response = requests.get(url)\n",
    "source = BeautifulSoup(response.text,\"lxml\")"
   ]
  },
  {
   "cell_type": "code",
   "execution_count": 3,
   "id": "c7f07c65-30ff-4509-90d8-9a636d3be66d",
   "metadata": {},
   "outputs": [],
   "source": [
    "texts =  source.find_all('div', {'class': 'mw-parser-output'})[0].get_text().split('\\n')[3:-8]\n",
    "idx = 0\n",
    "while texts[idx] != 'B[sửa | sửa mã nguồn]':\n",
    "    texts = texts[idx + 1:]"
   ]
  },
  {
   "cell_type": "code",
   "execution_count": 4,
   "id": "fc319041-0dab-43d9-82fc-fd941866ced2",
   "metadata": {},
   "outputs": [],
   "source": [
    "with open('Data/artists.txt', 'w') as file:\n",
    "    for text in texts:\n",
    "        if '[' in text:\n",
    "            continue\n",
    "        file.write(text)\n",
    "        file.write('\\n')\n",
    "    file.close()"
   ]
  }
 ],
 "metadata": {
  "kernelspec": {
   "display_name": "Python 3 (ipykernel)",
   "language": "python",
   "name": "python3"
  },
  "language_info": {
   "codemirror_mode": {
    "name": "ipython",
    "version": 3
   },
   "file_extension": ".py",
   "mimetype": "text/x-python",
   "name": "python",
   "nbconvert_exporter": "python",
   "pygments_lexer": "ipython3",
   "version": "3.8.10"
  }
 },
 "nbformat": 4,
 "nbformat_minor": 5
}
